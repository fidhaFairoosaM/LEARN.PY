{
  "nbformat": 4,
  "nbformat_minor": 0,
  "metadata": {
    "colab": {
      "name": "TASK 6.ipynb",
      "provenance": [],
      "include_colab_link": true
    },
    "kernelspec": {
      "name": "python3",
      "display_name": "Python 3"
    },
    "language_info": {
      "name": "python"
    }
  },
  "cells": [
    {
      "cell_type": "markdown",
      "metadata": {
        "id": "view-in-github",
        "colab_type": "text"
      },
      "source": [
        "<a href=\"https://colab.research.google.com/github/fidhaFairoosaM/LEARN.PY/blob/main/TASK_6.ipynb\" target=\"_parent\"><img src=\"https://colab.research.google.com/assets/colab-badge.svg\" alt=\"Open In Colab\"/></a>"
      ]
    },
    {
      "cell_type": "markdown",
      "metadata": {
        "id": "2aT_QhgIny6V"
      },
      "source": [
        "1. Write a Python program to find those numbers which are divisible by 7 and multiple of 11, between 1000 and 2000 (both included)."
      ]
    },
    {
      "cell_type": "code",
      "metadata": {
        "id": "KlFG2BFZoEEU",
        "outputId": "921055b2-738b-4447-8c52-cf8f9c6c548d",
        "colab": {
          "base_uri": "https://localhost:8080/"
        }
      },
      "source": [
        "#please enter your answer below this line\n",
        "n=[]\n",
        "for x in range(1000, 2000):\n",
        "    if (x%7==0) and (x%11==0):\n",
        "        n.append(str(x))\n",
        "print (','.join(n))"
      ],
      "execution_count": 1,
      "outputs": [
        {
          "output_type": "stream",
          "text": [
            "1001,1078,1155,1232,1309,1386,1463,1540,1617,1694,1771,1848,1925\n"
          ],
          "name": "stdout"
        }
      ]
    },
    {
      "cell_type": "markdown",
      "metadata": {
        "id": "ZesHXUMboLu7"
      },
      "source": [
        "2. Write a program to print this pattern\n",
        "\n",
        "           #\n",
        "          ## \n",
        "         ###"
      ]
    },
    {
      "cell_type": "code",
      "metadata": {
        "id": "64-aUjWbohqz",
        "outputId": "02843073-5661-4590-f813-8f133fa8365c",
        "colab": {
          "base_uri": "https://localhost:8080/"
        }
      },
      "source": [
        "#please enter your answer below this line\n",
        "for i in range(0,3): \n",
        "     for j in range(0,3-i-1): \n",
        "          print(end=\" \") \n",
        "     for j in range(0,i+1): \n",
        "          print(\"#\", end=\"\") \n",
        "     print()"
      ],
      "execution_count": 2,
      "outputs": [
        {
          "output_type": "stream",
          "text": [
            "  #\n",
            " ##\n",
            "###\n"
          ],
          "name": "stdout"
        }
      ]
    },
    {
      "cell_type": "markdown",
      "metadata": {
        "id": "6ZepaaI-ow6W"
      },
      "source": [
        "3. list=[apple, orange, apple, banana]\n",
        ". Replace all the apple in the list with grapes using for loop"
      ]
    },
    {
      "cell_type": "code",
      "metadata": {
        "id": "D7UOyf_6o6Ax",
        "outputId": "5c64ad7d-aa00-4d14-abb6-1eb8e7fd6d40",
        "colab": {
          "base_uri": "https://localhost:8080/"
        }
      },
      "source": [
        "#please enter your answer below this line\n",
        "list=['apple','orange','apple','banana'] \n",
        "index=0 \n",
        "for i in list: \n",
        "     if(i=='apple'): \n",
        "           list[index]='grapes' \n",
        "     index+=1 \n",
        "print(list)"
      ],
      "execution_count": 3,
      "outputs": [
        {
          "output_type": "stream",
          "text": [
            "['grapes', 'orange', 'grapes', 'banana']\n"
          ],
          "name": "stdout"
        }
      ]
    }
  ]
}