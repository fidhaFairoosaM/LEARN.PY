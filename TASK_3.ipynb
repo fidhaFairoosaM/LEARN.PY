{
  "nbformat": 4,
  "nbformat_minor": 0,
  "metadata": {
    "colab": {
      "name": "TASK 3.ipynb",
      "provenance": [],
      "include_colab_link": true
    },
    "kernelspec": {
      "name": "python3",
      "display_name": "Python 3"
    },
    "language_info": {
      "name": "python"
    }
  },
  "cells": [
    {
      "cell_type": "markdown",
      "metadata": {
        "id": "view-in-github",
        "colab_type": "text"
      },
      "source": [
        "<a href=\"https://colab.research.google.com/github/fidhaFairoosaM/LEARN.PY/blob/main/TASK_3.ipynb\" target=\"_parent\"><img src=\"https://colab.research.google.com/assets/colab-badge.svg\" alt=\"Open In Colab\"/></a>"
      ]
    },
    {
      "cell_type": "markdown",
      "metadata": {
        "id": "z20IIB0eUQMN"
      },
      "source": [
        "1 - Write a program which takes a number as input from the user and check whether the number is odd or even.If odd print the number is odd if not print it is even."
      ]
    },
    {
      "cell_type": "code",
      "metadata": {
        "id": "dVgGJ-wTVRit",
        "outputId": "d2f884b7-b034-4954-fd05-7a5dd42956be",
        "colab": {
          "base_uri": "https://localhost:8080/"
        }
      },
      "source": [
        "#please enter your answer below this line\n",
        "a = int(input(\"Enter a number: \"))\n",
        "if (a % 2) == 0:\n",
        "   print(\"{0} is Even\".format(a))\n",
        "else:\n",
        "   print(\"{0} is Odd\".format(a))"
      ],
      "execution_count": 1,
      "outputs": [
        {
          "output_type": "stream",
          "text": [
            "Enter a number: 164\n",
            "164 is Even\n"
          ],
          "name": "stdout"
        }
      ]
    },
    {
      "cell_type": "markdown",
      "metadata": {
        "id": "7778XD8PVblj"
      },
      "source": [
        "2 -Write a program to find the largest among three numbers and print the largest number."
      ]
    },
    {
      "cell_type": "code",
      "metadata": {
        "id": "m0tUOkOFWR-d",
        "outputId": "b09161b5-43cd-4f16-d2aa-ec72b6e16c83",
        "colab": {
          "base_uri": "https://localhost:8080/"
        }
      },
      "source": [
        "#please enter your answer below this line\n",
        "a = int(input(\"Enter first number:\"))\n",
        "b = int(input(\"Enter second number:\"))\n",
        "c = int(input(\"Enter third number:\"))\n",
        "if a > b and a > c:\n",
        "    print(\"Largest number is:\", a)\n",
        "elif b > c:\n",
        "    print(\"Largest number is:\", b)\n",
        "else:\n",
        "    print(\"Largest number is:\", c)"
      ],
      "execution_count": 3,
      "outputs": [
        {
          "output_type": "stream",
          "text": [
            "Enter first number:20\n",
            "Enter second number:80\n",
            "Enter third number:55\n",
            "Largest number is: 80\n"
          ],
          "name": "stdout"
        }
      ]
    },
    {
      "cell_type": "markdown",
      "metadata": {
        "id": "Jg2Ns4OQWaJy"
      },
      "source": [
        "3 -Write a function to prompt for a score between 0.0 and 1.0.\n",
        "\n",
        "    If the score is out of range, print an error.\n",
        "    If the score is between 0.0 and 1.0, print a grade using the following table:\n",
        "    Score Grade\n",
        "             Score\tGrade\n",
        "            >= 0.9\tA\n",
        "            >= 0.8\tB\n",
        "            >= 0.7\tC\n",
        "            >= 0.6\tD\n",
        "             < 0.6\tF\n",
        "If the user enters a value out of range, print a suitable error message and exit. For the test, enter a score of 0.85."
      ]
    },
    {
      "cell_type": "code",
      "metadata": {
        "id": "6DLbGe6XXZPx",
        "outputId": "8e584c59-bfdb-438b-a767-27368c64fd51",
        "colab": {
          "base_uri": "https://localhost:8080/"
        }
      },
      "source": [
        "#please enter your answer below this line\n",
        "score = input('Enter score: ')\n",
        "s = float(score)\n",
        "if s >= 0.9 and s <= 1.0:\n",
        "    print('A')\n",
        "elif s >= 0.8 and s < 0.9 :\n",
        "    print('B')\n",
        "elif s >= 0.7 and s < 0.8 :\n",
        "    print('C')\n",
        "elif s >= 0.6 and s < 0.7 :\n",
        "    print('D')\n",
        "elif s < 0.6 and s > 0.0  :\n",
        "    print('F')\n",
        "else :\n",
        "    try:\n",
        "        if s <= 0.0 or s >= 1.0 :\n",
        "            print('Error,Score is out of range.Please enter score between 0.0 and 1.0')\n",
        "    except :\n",
        "            exit()"
      ],
      "execution_count": 4,
      "outputs": [
        {
          "output_type": "stream",
          "text": [
            "Enter score: 0.85\n",
            "B\n"
          ],
          "name": "stdout"
        }
      ]
    },
    {
      "cell_type": "markdown",
      "metadata": {
        "id": "-o0scDq7WkVT"
      },
      "source": [
        ""
      ]
    }
  ]
}